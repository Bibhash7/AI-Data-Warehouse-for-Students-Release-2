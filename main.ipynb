{
 "cells": [
  {
   "cell_type": "code",
   "execution_count": 51,
   "id": "b8650c69-c43f-4494-a61c-09e32f3ee7e9",
   "metadata": {},
   "outputs": [],
   "source": [
    "############   All Important Packages #############################################################\n",
    "\n",
    "import os.path\n",
    "import psycopg2\n",
    "import time\n",
    "from plyer import notification\n",
    "from datetime import date\n",
    "import cv2\n",
    "import matplotlib.pyplot as plt\n",
    "import pytesseract\n",
    "import speech_recognition as speechR\n",
    "import pyttsx3\n",
    "import colored\n",
    "pytesseract.pytesseract.tesseract_cmd = 'C:\\\\Program Files\\\\Tesseract-OCR\\\\tesseract.exe'"
   ]
  },
  {
   "cell_type": "code",
   "execution_count": 52,
   "id": "b8408e3a-5599-4f79-a803-3020e5bdf641",
   "metadata": {},
   "outputs": [],
   "source": [
    "%run conn.ipynb"
   ]
  },
  {
   "cell_type": "code",
   "execution_count": 53,
   "id": "3895c31f-0919-40e9-bebb-4df433b320c7",
   "metadata": {},
   "outputs": [],
   "source": [
    "%run adminOps.ipynb"
   ]
  },
  {
   "cell_type": "code",
   "execution_count": 54,
   "id": "9a2df055-d1b8-4aad-afaa-92a411307e5c",
   "metadata": {},
   "outputs": [],
   "source": [
    "%run imageOps.ipynb"
   ]
  },
  {
   "cell_type": "code",
   "execution_count": 55,
   "id": "4ff11b90-28e4-4ba9-9adb-1731066c04ee",
   "metadata": {},
   "outputs": [],
   "source": [
    "%run studentOps.ipynb"
   ]
  },
  {
   "cell_type": "code",
   "execution_count": 56,
   "id": "555dc901-dcd1-47a8-8c5c-de7869375217",
   "metadata": {},
   "outputs": [],
   "source": [
    "%run SpeechLogin.ipynb"
   ]
  },
  {
   "cell_type": "code",
   "execution_count": 57,
   "id": "3b235aa4-5825-44c2-9b9a-dcf04da61fec",
   "metadata": {},
   "outputs": [],
   "source": [
    "OK = '\\033[92m' #GREEN\n",
    "WARNING = '\\033[93m' #YELLOW\n",
    "FAIL = '\\033[91m' #RED\n",
    "RESET = '\\033[0m' #RESET COLOR"
   ]
  },
  {
   "cell_type": "code",
   "execution_count": 59,
   "id": "83b8cff8-44c1-4276-87d4-6f90b7fe72a6",
   "metadata": {},
   "outputs": [
    {
     "name": "stdout",
     "output_type": "stream",
     "text": [
      "\n",
      "|---------------------------------------------------|\n",
      "| Hi,There, Welcome to AI-Student Data Warehouse:   |\n",
      "|---------------------------------------------------|\n",
      "| Prees A for Admin Access:                         |\n",
      "| Press S  for Student Access:                      |\n",
      "| Press Q for Exit:                                 |\n",
      "|---------------------------------------------------|\n",
      "\n"
     ]
    },
    {
     "name": "stdin",
     "output_type": "stream",
     "text": [
      "Enter your Choice:  a\n"
     ]
    },
    {
     "name": "stdout",
     "output_type": "stream",
     "text": [
      "[ Experience AI                                     ]\n",
      "[ ------------------------------------------------- ]\n",
      "[ 1. Press any key for Enter through Voice command  ]\n",
      "[ 2. Press 2 for login using User name and Password ]\n",
      "[ ------------------------------------------------- ]\n",
      "\n"
     ]
    },
    {
     "name": "stdin",
     "output_type": "stream",
     "text": [
      "Enter Login Option:  s\n"
     ]
    },
    {
     "ename": "ValueError",
     "evalue": "invalid literal for int() with base 10: 's'",
     "output_type": "error",
     "traceback": [
      "\u001b[1;31m---------------------------------------------------------------------------\u001b[0m",
      "\u001b[1;31mValueError\u001b[0m                                Traceback (most recent call last)",
      "\u001b[1;32m~\\AppData\\Local\\Temp/ipykernel_9740/2350637286.py\u001b[0m in \u001b[0;36m<module>\u001b[1;34m\u001b[0m\n\u001b[0;32m     19\u001b[0m         \u001b[0mprint\u001b[0m\u001b[1;33m(\u001b[0m\u001b[1;34m\"[ 2. Press 2 for login using User name and Password ]\"\u001b[0m\u001b[1;33m)\u001b[0m\u001b[1;33m\u001b[0m\u001b[1;33m\u001b[0m\u001b[0m\n\u001b[0;32m     20\u001b[0m         \u001b[0mprint\u001b[0m\u001b[1;33m(\u001b[0m\u001b[1;34m\"[ ------------------------------------------------- ]\\n\"\u001b[0m\u001b[1;33m)\u001b[0m\u001b[1;33m\u001b[0m\u001b[1;33m\u001b[0m\u001b[0m\n\u001b[1;32m---> 21\u001b[1;33m         \u001b[0mchoice\u001b[0m \u001b[1;33m=\u001b[0m \u001b[0mint\u001b[0m\u001b[1;33m(\u001b[0m\u001b[0minput\u001b[0m\u001b[1;33m(\u001b[0m\u001b[1;34m\"Enter Login Option: \"\u001b[0m\u001b[1;33m)\u001b[0m\u001b[1;33m)\u001b[0m\u001b[1;33m\u001b[0m\u001b[1;33m\u001b[0m\u001b[0m\n\u001b[0m\u001b[0;32m     22\u001b[0m         \u001b[1;32mif\u001b[0m\u001b[1;33m(\u001b[0m\u001b[0mchoice\u001b[0m \u001b[1;33m==\u001b[0m \u001b[1;36m2\u001b[0m\u001b[1;33m)\u001b[0m\u001b[1;33m:\u001b[0m\u001b[1;33m\u001b[0m\u001b[1;33m\u001b[0m\u001b[0m\n\u001b[0;32m     23\u001b[0m             \u001b[0mprint\u001b[0m\u001b[1;33m(\u001b[0m\u001b[1;34m\"\\nYou have \"\u001b[0m\u001b[1;33m,\u001b[0m\u001b[0mnoOfAttemptsToLogin\u001b[0m\u001b[1;33m-\u001b[0m\u001b[0madminLoginCount\u001b[0m\u001b[1;33m,\u001b[0m\u001b[1;34m\"attempts, login carefully:\\n\"\u001b[0m\u001b[1;33m)\u001b[0m\u001b[1;33m\u001b[0m\u001b[1;33m\u001b[0m\u001b[0m\n",
      "\u001b[1;31mValueError\u001b[0m: invalid literal for int() with base 10: 's'"
     ]
    }
   ],
   "source": [
    "################# Main Code ###############################################################\n",
    "\n",
    "while(1):\n",
    "    global adminLoginCount\n",
    "    global noOfAttemptsToLogin\n",
    "    print()\n",
    "    print( \"|---------------------------------------------------|\\n\"\n",
    "          +\"| Hi,There, Welcome to AI-Student Data Warehouse:   |\\n\"\n",
    "          +\"|---------------------------------------------------|\\n\"\n",
    "          +\"| Prees A for Admin Access:                         |\\n\"\n",
    "          +\"| Press S  for Student Access:                      |\\n\"\n",
    "          +\"| Press Q for Exit:                                 |\\n\"\n",
    "          +\"|---------------------------------------------------|\\n\")\n",
    "    c = input(\"Enter your Choice: \")\n",
    "    if(c.lower() == 'a'):\n",
    "        print(\"[ Experience AI                                     ]\")\n",
    "        print(\"[ ------------------------------------------------- ]\")\n",
    "        print(\"[ 1. Press any key for Enter through Voice command  ]\")\n",
    "        print(\"[ 2. Press 2 for login using User name and Password ]\")\n",
    "        print(\"[ ------------------------------------------------- ]\\n\")\n",
    "        choice = input(\"Enter Login Option: \")\n",
    "        if(choice == '1'):\n",
    "            print(\"\\nYou have \",noOfAttemptsToLogin-adminLoginCount,\"attempts, login carefully:\\n\")\n",
    "            if adminLoginCount == 3:\n",
    "                print()\n",
    "                print(FAIL+\"You have entered Wrong Password for 3 times. Try after 2 minutes ..\"+RESET)\n",
    "                print()\n",
    "                noOfAttemptsToLogin = 3\n",
    "                adminLoginCount = -1\n",
    "                time.sleep(2*60)\n",
    "            if adminLoginCount == 2:\n",
    "                notification.notify(title = \"Final Attempt\",message=\"You have only 1 attempt left.\" ,timeout=2)\n",
    "                time.sleep(5)\n",
    "            aid = input(\"Enter admin ID:\")\n",
    "            pwd = input(\"Enter admin Password: \")\n",
    "            query = \"\"\"select * from admin\"\"\"\n",
    "            cursor.execute(query)\n",
    "            data = cursor.fetchone()\n",
    "            #cursor.close()\n",
    "            if(data[0] == aid and data[1] == pwd):\n",
    "                print(OK+\"Credential Matched! \"+RESET)\n",
    "                noOfAttemptsToLogin = 3\n",
    "                adminLoginCount = -1\n",
    "                openAdminPage()\n",
    "            else:\n",
    "                print(FAIL+\"\\nYou are not an admin, Returning to main menu...\\n\"+RESET)\n",
    "            adminLoginCount+=1\n",
    "        else:\n",
    "            print(\"Recognizing, wait for 10 second to process ...\")\n",
    "            loginString = \"hi this is admin\"\n",
    "            voiceString = SpeechRecognizer()\n",
    "            if loginString == voiceString:\n",
    "                print(OK+\"Credential Matched! \"+RESET)\n",
    "                openAdminPage()\n",
    "            else:\n",
    "                print(FAIL +\"Credential does't Matched! \"+RESET)\n",
    "                print(\"\\nYou are not an admin, Returning to main menu...\\n\")\n",
    "    elif(c.lower() == 's'):\n",
    "        noOfAttemptsToLogin = 3\n",
    "        adminLoginCount = 0\n",
    "        openStudentPage()\n",
    "    elif(c.lower() == \"q\"):\n",
    "        cursor.close()\n",
    "        conn.close()\n",
    "        print('Thank you, visit again')\n",
    "        break\n",
    "    else:\n",
    "        continue"
   ]
  },
  {
   "cell_type": "code",
   "execution_count": null,
   "id": "808716ea-98b7-47eb-b2f2-666c58e6e4a2",
   "metadata": {},
   "outputs": [],
   "source": []
  },
  {
   "cell_type": "code",
   "execution_count": null,
   "id": "9f2329d7-7079-4962-ae57-097043d43edd",
   "metadata": {},
   "outputs": [],
   "source": []
  }
 ],
 "metadata": {
  "kernelspec": {
   "display_name": "Python 3 (ipykernel)",
   "language": "python",
   "name": "python3"
  },
  "language_info": {
   "codemirror_mode": {
    "name": "ipython",
    "version": 3
   },
   "file_extension": ".py",
   "mimetype": "text/x-python",
   "name": "python",
   "nbconvert_exporter": "python",
   "pygments_lexer": "ipython3",
   "version": "3.7.11"
  }
 },
 "nbformat": 4,
 "nbformat_minor": 5
}
