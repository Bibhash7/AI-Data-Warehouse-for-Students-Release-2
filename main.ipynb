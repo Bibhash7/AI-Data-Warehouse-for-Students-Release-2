{
 "cells": [
  {
   "cell_type": "code",
   "execution_count": 51,
   "id": "b8650c69-c43f-4494-a61c-09e32f3ee7e9",
   "metadata": {},
   "outputs": [],
   "source": [
    "############   All Important Packages #############################################################\n",
    "\n",
    "import os.path\n",
    "import psycopg2\n",
    "import time\n",
    "from plyer import notification\n",
    "from datetime import date\n",
    "import cv2\n",
    "import matplotlib.pyplot as plt\n",
    "import pytesseract\n",
    "import speech_recognition as speechR\n",
    "import pyttsx3\n",
    "import colored\n",
    "pytesseract.pytesseract.tesseract_cmd = 'C:\\\\Program Files\\\\Tesseract-OCR\\\\tesseract.exe'"
   ]
  },
  {
   "cell_type": "code",
   "execution_count": 52,
   "id": "b8408e3a-5599-4f79-a803-3020e5bdf641",
   "metadata": {},
   "outputs": [],
   "source": [
    "%run conn.ipynb"
   ]
  },
  {
   "cell_type": "code",
   "execution_count": 53,
   "id": "3895c31f-0919-40e9-bebb-4df433b320c7",
   "metadata": {},
   "outputs": [],
   "source": [
    "%run adminOps.ipynb"
   ]
  },
  {
   "cell_type": "code",
   "execution_count": 54,
   "id": "9a2df055-d1b8-4aad-afaa-92a411307e5c",
   "metadata": {},
   "outputs": [],
   "source": [
    "%run imageOps.ipynb"
   ]
  },
  {
   "cell_type": "code",
   "execution_count": 55,
   "id": "4ff11b90-28e4-4ba9-9adb-1731066c04ee",
   "metadata": {},
   "outputs": [],
   "source": [
    "%run studentOps.ipynb"
   ]
  },
  {
   "cell_type": "code",
   "execution_count": 56,
   "id": "555dc901-dcd1-47a8-8c5c-de7869375217",
   "metadata": {},
   "outputs": [],
   "source": [
    "%run SpeechLogin.ipynb"
   ]
  },
  {
   "cell_type": "code",
   "execution_count": 57,
   "id": "3b235aa4-5825-44c2-9b9a-dcf04da61fec",
   "metadata": {},
   "outputs": [],
   "source": [
    "OK = '\\033[92m' #GREEN\n",
    "WARNING = '\\033[93m' #YELLOW\n",
    "FAIL = '\\033[91m' #RED\n",
    "RESET = '\\033[0m' #RESET COLOR"
   ]
  },
  {
   "cell_type": "code",
   "execution_count": null,
   "id": "83b8cff8-44c1-4276-87d4-6f90b7fe72a6",
   "metadata": {},
   "outputs": [
    {
     "name": "stdout",
     "output_type": "stream",
     "text": [
      "\n",
      "|---------------------------------------------------|\n",
      "| Hi,There, Welcome to AI-Student Data Warehouse:   |\n",
      "|---------------------------------------------------|\n",
      "| Prees A for Admin Access:                         |\n",
      "| Press S  for Student Access:                      |\n",
      "| Press Q for Exit:                                 |\n",
      "|---------------------------------------------------|\n",
      "\n"
     ]
    },
    {
     "name": "stdin",
     "output_type": "stream",
     "text": [
      "Enter your Choice:  a\n"
     ]
    },
    {
     "name": "stdout",
     "output_type": "stream",
     "text": [
      "[ Experience AI                   ]\n",
      "[ ------------------------------- ]\n",
      "[ 1. Enter through Voice command  ]\n",
      "[ 2. Enter User name and Password ]\n",
      "[ ------------------------------- ]\n",
      "\n"
     ]
    },
    {
     "name": "stdin",
     "output_type": "stream",
     "text": [
      "Enter Login Option:  2\n"
     ]
    },
    {
     "name": "stdout",
     "output_type": "stream",
     "text": [
      "\n",
      "You have  3 attempts, login carefully:\n",
      "\n"
     ]
    },
    {
     "name": "stdin",
     "output_type": "stream",
     "text": [
      "Enter admin ID: bg7\n",
      "Enter admin Password:  111\n"
     ]
    },
    {
     "name": "stdout",
     "output_type": "stream",
     "text": [
      "\u001b[92mCredential Matched! \u001b[0m\n",
      "\n",
      "Welcome Admin:\n",
      "\n",
      "******************************************\n",
      "* Press 1 for create tables              *\n",
      "* Press 2 for Delete records             *\n",
      "* Press 3 for truncate all User tables   *\n",
      "* Press 4 to Publish Result              *\n",
      "* Press 5 to exit                        *\n",
      "******************************************\n",
      "\n"
     ]
    },
    {
     "name": "stdin",
     "output_type": "stream",
     "text": [
      "Enter your Choice:  5\n"
     ]
    },
    {
     "name": "stdout",
     "output_type": "stream",
     "text": [
      "\n",
      "|---------------------------------------------------|\n",
      "| Hi,There, Welcome to AI-Student Data Warehouse:   |\n",
      "|---------------------------------------------------|\n",
      "| Prees A for Admin Access:                         |\n",
      "| Press S  for Student Access:                      |\n",
      "| Press Q for Exit:                                 |\n",
      "|---------------------------------------------------|\n",
      "\n"
     ]
    },
    {
     "name": "stdin",
     "output_type": "stream",
     "text": [
      "Enter your Choice:  a\n"
     ]
    },
    {
     "name": "stdout",
     "output_type": "stream",
     "text": [
      "[ Experience AI                   ]\n",
      "[ ------------------------------- ]\n",
      "[ 1. Enter through Voice command  ]\n",
      "[ 2. Enter User name and Password ]\n",
      "[ ------------------------------- ]\n",
      "\n"
     ]
    },
    {
     "name": "stdin",
     "output_type": "stream",
     "text": [
      "Enter Login Option:  2\n"
     ]
    },
    {
     "name": "stdout",
     "output_type": "stream",
     "text": [
      "\n",
      "You have  3 attempts, login carefully:\n",
      "\n"
     ]
    },
    {
     "name": "stdin",
     "output_type": "stream",
     "text": [
      "Enter admin ID: j\n",
      "Enter admin Password:  k\n"
     ]
    },
    {
     "name": "stdout",
     "output_type": "stream",
     "text": [
      "\u001b[91m\n",
      "You are not an admin, Returning to main menu...\n",
      "\u001b[0m\n",
      "\n",
      "|---------------------------------------------------|\n",
      "| Hi,There, Welcome to AI-Student Data Warehouse:   |\n",
      "|---------------------------------------------------|\n",
      "| Prees A for Admin Access:                         |\n",
      "| Press S  for Student Access:                      |\n",
      "| Press Q for Exit:                                 |\n",
      "|---------------------------------------------------|\n",
      "\n"
     ]
    },
    {
     "name": "stdin",
     "output_type": "stream",
     "text": [
      "Enter your Choice:  a\n"
     ]
    },
    {
     "name": "stdout",
     "output_type": "stream",
     "text": [
      "[ Experience AI                   ]\n",
      "[ ------------------------------- ]\n",
      "[ 1. Enter through Voice command  ]\n",
      "[ 2. Enter User name and Password ]\n",
      "[ ------------------------------- ]\n",
      "\n"
     ]
    },
    {
     "name": "stdin",
     "output_type": "stream",
     "text": [
      "Enter Login Option:  2\n"
     ]
    },
    {
     "name": "stdout",
     "output_type": "stream",
     "text": [
      "\n",
      "You have  2 attempts, login carefully:\n",
      "\n"
     ]
    },
    {
     "name": "stdin",
     "output_type": "stream",
     "text": [
      "Enter admin ID: dd\n",
      "Enter admin Password:  111\n"
     ]
    },
    {
     "name": "stdout",
     "output_type": "stream",
     "text": [
      "\u001b[91m\n",
      "You are not an admin, Returning to main menu...\n",
      "\u001b[0m\n",
      "\n",
      "|---------------------------------------------------|\n",
      "| Hi,There, Welcome to AI-Student Data Warehouse:   |\n",
      "|---------------------------------------------------|\n",
      "| Prees A for Admin Access:                         |\n",
      "| Press S  for Student Access:                      |\n",
      "| Press Q for Exit:                                 |\n",
      "|---------------------------------------------------|\n",
      "\n"
     ]
    },
    {
     "name": "stdin",
     "output_type": "stream",
     "text": [
      "Enter your Choice:  a\n"
     ]
    },
    {
     "name": "stdout",
     "output_type": "stream",
     "text": [
      "[ Experience AI                   ]\n",
      "[ ------------------------------- ]\n",
      "[ 1. Enter through Voice command  ]\n",
      "[ 2. Enter User name and Password ]\n",
      "[ ------------------------------- ]\n",
      "\n"
     ]
    },
    {
     "name": "stdin",
     "output_type": "stream",
     "text": [
      "Enter Login Option:  2\n"
     ]
    },
    {
     "name": "stdout",
     "output_type": "stream",
     "text": [
      "\n",
      "You have  1 attempts, login carefully:\n",
      "\n"
     ]
    },
    {
     "name": "stdin",
     "output_type": "stream",
     "text": [
      "Enter admin ID: bg\n",
      "Enter admin Password:  11\n"
     ]
    },
    {
     "name": "stdout",
     "output_type": "stream",
     "text": [
      "\u001b[91m\n",
      "You are not an admin, Returning to main menu...\n",
      "\u001b[0m\n",
      "\n",
      "|---------------------------------------------------|\n",
      "| Hi,There, Welcome to AI-Student Data Warehouse:   |\n",
      "|---------------------------------------------------|\n",
      "| Prees A for Admin Access:                         |\n",
      "| Press S  for Student Access:                      |\n",
      "| Press Q for Exit:                                 |\n",
      "|---------------------------------------------------|\n",
      "\n"
     ]
    },
    {
     "name": "stdin",
     "output_type": "stream",
     "text": [
      "Enter your Choice:  a\n"
     ]
    },
    {
     "name": "stdout",
     "output_type": "stream",
     "text": [
      "[ Experience AI                   ]\n",
      "[ ------------------------------- ]\n",
      "[ 1. Enter through Voice command  ]\n",
      "[ 2. Enter User name and Password ]\n",
      "[ ------------------------------- ]\n",
      "\n"
     ]
    },
    {
     "name": "stdin",
     "output_type": "stream",
     "text": [
      "Enter Login Option:  2\n"
     ]
    },
    {
     "name": "stdout",
     "output_type": "stream",
     "text": [
      "\n",
      "You have  0 attempts, login carefully:\n",
      "\n",
      "\n",
      "\u001b[91mYou have entered Wrong Password for 3 times. Try after 2 minutes ..\u001b[0m\n",
      "\n"
     ]
    }
   ],
   "source": [
    "################# Main Code ###############################################################\n",
    "\n",
    "while(1):\n",
    "    global adminLoginCount\n",
    "    global noOfAttemptsToLogin\n",
    "    print()\n",
    "    print( \"|---------------------------------------------------|\\n\"\n",
    "          +\"| Hi,There, Welcome to AI-Student Data Warehouse:   |\\n\"\n",
    "          +\"|---------------------------------------------------|\\n\"\n",
    "          +\"| Prees A for Admin Access:                         |\\n\"\n",
    "          +\"| Press S  for Student Access:                      |\\n\"\n",
    "          +\"| Press Q for Exit:                                 |\\n\"\n",
    "          +\"|---------------------------------------------------|\\n\")\n",
    "    c = input(\"Enter your Choice: \")\n",
    "    if(c.lower() == 'a'):\n",
    "        print(\"[ Experience AI                   ]\")\n",
    "        print(\"[ ------------------------------- ]\")\n",
    "        print(\"[ 1. Enter through Voice command  ]\")\n",
    "        print(\"[ 2. Enter User name and Password ]\")\n",
    "        print(\"[ ------------------------------- ]\\n\")\n",
    "        choice = int(input(\"Enter Login Option: \"))\n",
    "        if(choice == 2):\n",
    "            print(\"\\nYou have \",noOfAttemptsToLogin-adminLoginCount,\"attempts, login carefully:\\n\")\n",
    "            if adminLoginCount == 3:\n",
    "                print()\n",
    "                print(FAIL+\"You have entered Wrong Password for 3 times. Try after 2 minutes ..\"+RESET)\n",
    "                print()\n",
    "                noOfAttemptsToLogin = 3\n",
    "                adminLoginCount = -1\n",
    "                time.sleep(2*60)\n",
    "            if adminLoginCount == 2:\n",
    "                notification.notify(title = \"Final Attempt\",message=\"You have only 1 attempt left.\" ,timeout=2)\n",
    "                time.sleep(5)\n",
    "            aid = input(\"Enter admin ID:\")\n",
    "            pwd = input(\"Enter admin Password: \")\n",
    "            query = \"\"\"select * from admin\"\"\"\n",
    "            cursor.execute(query)\n",
    "            data = cursor.fetchone()\n",
    "            #cursor.close()\n",
    "            if(data[0] == aid and data[1] == pwd):\n",
    "                print(OK+\"Credential Matched! \"+RESET)\n",
    "                noOfAttemptsToLogin = 3\n",
    "                adminLoginCount = -1\n",
    "                openAdminPage()\n",
    "            else:\n",
    "                print(FAIL+\"\\nYou are not an admin, Returning to main menu...\\n\"+RESET)\n",
    "            adminLoginCount+=1\n",
    "        else:\n",
    "            print(\"Recognizing, wait for 10 second to process ...\")\n",
    "            loginString = \"hi this is admin\"\n",
    "            voiceString = SpeechRecognizer()\n",
    "            if loginString == voiceString:\n",
    "                print(OK+\"Credential Matched! \"+RESET)\n",
    "                openAdminPage()\n",
    "            else:\n",
    "                print(FAIL +\"Credential does't Matched! \"+RESET)\n",
    "                print(\"\\nYou are not an admin, Returning to main menu...\\n\")\n",
    "    elif(c.lower() == 's'):\n",
    "        noOfAttemptsToLogin = 3\n",
    "        adminLoginCount = 0\n",
    "        openStudentPage()\n",
    "    elif(c.lower() == \"q\"):\n",
    "        cursor.close()\n",
    "        conn.close()\n",
    "        print('Thank you, visit again')\n",
    "        break\n",
    "    else:\n",
    "        continue"
   ]
  },
  {
   "cell_type": "code",
   "execution_count": null,
   "id": "808716ea-98b7-47eb-b2f2-666c58e6e4a2",
   "metadata": {},
   "outputs": [],
   "source": []
  },
  {
   "cell_type": "code",
   "execution_count": null,
   "id": "9f2329d7-7079-4962-ae57-097043d43edd",
   "metadata": {},
   "outputs": [],
   "source": []
  }
 ],
 "metadata": {
  "kernelspec": {
   "display_name": "Python 3 (ipykernel)",
   "language": "python",
   "name": "python3"
  },
  "language_info": {
   "codemirror_mode": {
    "name": "ipython",
    "version": 3
   },
   "file_extension": ".py",
   "mimetype": "text/x-python",
   "name": "python",
   "nbconvert_exporter": "python",
   "pygments_lexer": "ipython3",
   "version": "3.7.11"
  }
 },
 "nbformat": 4,
 "nbformat_minor": 5
}
